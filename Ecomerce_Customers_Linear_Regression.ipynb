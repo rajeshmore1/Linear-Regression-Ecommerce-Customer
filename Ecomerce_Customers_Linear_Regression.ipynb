{
  "nbformat": 4,
  "nbformat_minor": 0,
  "metadata": {
    "colab": {
      "name": "Ecomerce  Customers Linear Regression.ipynb",
      "provenance": [],
      "authorship_tag": "ABX9TyOvrOVImsAmFV+kPnt6hJSm",
      "include_colab_link": true
    },
    "kernelspec": {
      "name": "python3",
      "display_name": "Python 3"
    }
  },
  "cells": [
    {
      "cell_type": "markdown",
      "metadata": {
        "id": "view-in-github",
        "colab_type": "text"
      },
      "source": [
        "<a href=\"https://colab.research.google.com/github/rajeshmore1/Linear-Regression-Ecommerce-Customer/blob/main/Ecomerce_Customers_Linear_Regression.ipynb\" target=\"_parent\"><img src=\"https://colab.research.google.com/assets/colab-badge.svg\" alt=\"Open In Colab\"/></a>"
      ]
    },
    {
      "cell_type": "code",
      "metadata": {
        "colab": {
          "base_uri": "https://localhost:8080/"
        },
        "id": "7T3nnUZKEMOz",
        "outputId": "daaf7290-22c6-4a40-9fdc-8a4611007c5a"
      },
      "source": [
        "# Importing required libraries\r\n",
        "import numpy as np\r\n",
        "import pandas as pd\r\n",
        "import matplotlib.pyplot as plt\r\n",
        "import seaborn as sns\r\n",
        "from sklearn.model_selection import train_test_split\r\n",
        "from sklearn.linear_model import LinearRegression\r\n",
        "from sklearn import metrics\r\n",
        "import warnings\r\n",
        "warnings.filterwarnings('ignore')\r\n",
        "%matplotlib inline customers = pd.read_csv('Ecomm-Customers.csv')\r\n",
        "customers.info()"
      ],
      "execution_count": 6,
      "outputs": [
        {
          "output_type": "stream",
          "text": [
            "UsageError: unrecognized arguments: customers = pd.read_csv('Ecomm-Customers.csv')\n"
          ],
          "name": "stderr"
        }
      ]
    },
    {
      "cell_type": "code",
      "metadata": {
        "id": "1ys6xRdgGWgG"
      },
      "source": [
        "customers.head()"
      ],
      "execution_count": null,
      "outputs": []
    },
    {
      "cell_type": "code",
      "metadata": {
        "id": "C2VuHHq1Ehto"
      },
      "source": [
        "sns.pairplot(customers)"
      ],
      "execution_count": null,
      "outputs": []
    },
    {
      "cell_type": "code",
      "metadata": {
        "id": "6rtnQngGGgz2"
      },
      "source": [
        "sns.heatmap(customers.corr(), linewidth=0.5, annot=True)"
      ],
      "execution_count": null,
      "outputs": []
    },
    {
      "cell_type": "code",
      "metadata": {
        "id": "XbADZnulGoPj"
      },
      "source": [
        "x = customers[['Time on App', 'Length of Membership']]\r\n",
        "y = customers['Yearly Amount Spent']"
      ],
      "execution_count": null,
      "outputs": []
    },
    {
      "cell_type": "code",
      "metadata": {
        "id": "0FQC04c1GrxB"
      },
      "source": [
        "x_train, x_test, y_train, y_test = train_test_split(x, y, test_size = 0.3, random_state = 50)"
      ],
      "execution_count": null,
      "outputs": []
    },
    {
      "cell_type": "code",
      "metadata": {
        "id": "O_UOZFBZGssk"
      },
      "source": [
        "lm = LinearRegression()\r\n",
        "lm.fit(x_train, y_train)"
      ],
      "execution_count": null,
      "outputs": []
    },
    {
      "cell_type": "code",
      "metadata": {
        "id": "0zg45khCG3Bk"
      },
      "source": [
        "print(\"Coeffs are Time on App : {0} , Length of Membership: {1}\".format(lm.coef_[0], lm.coef_[1])) \r\n",
        "print(\"Intercept : \",lm.intercept_)"
      ],
      "execution_count": null,
      "outputs": []
    },
    {
      "cell_type": "code",
      "metadata": {
        "id": "4OhCq1skHalh"
      },
      "source": [
        "result = lm.predict(x_test)\r\n",
        "plt.scatter(y_test, result)\r\n",
        "plt.xlabel(\"Actual values\")\r\n",
        "plt.ylabel(\"Predicted values\")"
      ],
      "execution_count": null,
      "outputs": []
    },
    {
      "cell_type": "code",
      "metadata": {
        "id": "8zXjxeQDHqz9"
      },
      "source": [
        "print(‘R2 score : ‘,metrics.r2_score(y_test, result))\r\n",
        "print(‘Variance: ‘,metrics.explained_variance_score(y_test,result))\r\n",
        "print(‘MSE: ‘, metrics.mean_squared_error(y_test,result))\r\n"
      ],
      "execution_count": null,
      "outputs": []
    },
    {
      "cell_type": "code",
      "metadata": {
        "id": "nNA_Sw69MOAy"
      },
      "source": [
        "x = customers[['Time on App', 'Length of Membership','Avg. Session Length']]"
      ],
      "execution_count": null,
      "outputs": []
    },
    {
      "cell_type": "code",
      "metadata": {
        "id": "tkTcWcWRMPPo"
      },
      "source": [
        "x_train, x_test, y_train, y_test = train_test_split(x, y, test_size = 0.3, random_state = 50)"
      ],
      "execution_count": null,
      "outputs": []
    },
    {
      "cell_type": "code",
      "metadata": {
        "id": "3B0UuVocMS7z"
      },
      "source": [
        "lm.fit(x_train, y_train)"
      ],
      "execution_count": null,
      "outputs": []
    },
    {
      "cell_type": "code",
      "metadata": {
        "id": "DoT3EIarMe2I"
      },
      "source": [
        "print(\"Coeffs are Time on App : {0} , Length of Membership: {1} , Avg. Session Length: {2}\".format(lm.coef_[0], lm.coef_[1], lm.coef_[2]))\r\n",
        "print(\"Intercept : \",lm.intercept_)"
      ],
      "execution_count": null,
      "outputs": []
    },
    {
      "cell_type": "markdown",
      "metadata": {
        "id": "ZEQ0wSkTMjnv"
      },
      "source": [
        "y = 38.74012697347563*(Time on App) +61.779801807105294*(Length of Membership) + 25.66375684798914*(Avg. Session Length) -1034.1551554733614"
      ]
    },
    {
      "cell_type": "code",
      "metadata": {
        "id": "Iuew-99MMkZE"
      },
      "source": [
        "result = lm.predict(x_test)\r\n",
        "plt.scatter(y_test, result)\r\n",
        "plt.xlabel(\"Actual values\")\r\n",
        "plt.ylabel(\"Predicted values\")"
      ],
      "execution_count": null,
      "outputs": []
    },
    {
      "cell_type": "code",
      "metadata": {
        "id": "oKigvA1RMr1B"
      },
      "source": [
        "print('R2 score : ',metrics.r2_score(y_test, result))\r\n",
        "print('Variance: ',metrics.explained_variance_score(y_test,result))\r\n",
        "print('MSE ', metrics.mean_squared_error(y_test,result))"
      ],
      "execution_count": null,
      "outputs": []
    }
  ]
}